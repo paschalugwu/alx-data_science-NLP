{
  "cells": [
    {
      "cell_type": "markdown",
      "id": "5aSdyAOKTof2",
      "metadata": {
        "id": "5aSdyAOKTof2"
      },
      "source": [
        "<div align=\"center\" style=\" font-size: 80%; text-align: center; margin: 0 auto\">\n",
        "<img src=\"https://raw.githubusercontent.com/Explore-AI/Pictures/master/Python-Notebook-Banners/Code_challenge.png\"  style=\"display: block; margin-left: auto; margin-right: auto;\";/>\n",
        "</div>"
      ]
    },
    {
      "cell_type": "markdown",
      "id": "f662d169",
      "metadata": {
        "id": "f662d169"
      },
      "source": [
        "# Code challenge: Classification - hyperparameter tuning\n",
        "© ExploreAI Academy"
      ]
    },
    {
      "cell_type": "markdown",
      "id": "26af890c",
      "metadata": {
        "id": "26af890c"
      },
      "source": [
        "In this train, we'll tackle a classification problem by tuning hyperparameters, using techniques like grid search to optimise model performance."
      ]
    },
    {
      "cell_type": "markdown",
      "id": "2d230d14",
      "metadata": {
        "id": "2d230d14",
        "tags": []
      },
      "source": [
        "## Learning objectives\n",
        "\n",
        "By the end of this train, you should be able to:\n",
        "- Apply hyperparameter tuning to improve a classification model.\n",
        "- Evaluate model performance with tuned hyperparameters."
      ]
    },
    {
      "cell_type": "markdown",
      "id": "e0c49012",
      "metadata": {
        "id": "e0c49012"
      },
      "source": [
        "## Instructions to students\n",
        "\n",
        "- **Do not add or remove cells in this notebook. Do not edit or remove the `### START FUNCTION` or `### END FUNCTION` comments. Do not add any code outside of the functions you are required to edit. Doing any of this will lead to a mark of 0%!**\n",
        "- Answer the questions according to the specifications provided.\n",
        "- Use the given cell in each question to see if your function matches the expected outputs.\n",
        "- Do not hard-code answers to the questions.\n",
        "- The use of Stack Overflow, Google, and other online tools are permitted. However, copying fellow student's code is not permissible and is considered a breach of the Honour code below. Doing this will result in a mark of 0%.\n",
        "- Good luck, and may the force be with you!"
      ]
    },
    {
      "cell_type": "markdown",
      "id": "63e6293e",
      "metadata": {
        "id": "63e6293e"
      },
      "source": [
        "## Honour Code\n",
        "\n",
        "I PASCHAL, UGWU, confirm - by submitting this document - that the solutions in this notebook are a result of my own work and that I abide by the EDSA honour code (https://drive.google.com/file/d/1QDCjGZJ8-FmJE3bZdIQNwnJyQKPhHZBn/view?usp=sharing).\n",
        "\n",
        "Non-compliance with the honour code constitutes a material breach of contract."
      ]
    },
    {
      "cell_type": "markdown",
      "id": "e4f17e44",
      "metadata": {
        "id": "e4f17e44"
      },
      "source": [
        "## Overview\n",
        "\n",
        "Hyperparameters have a direct impact on the performance and predictions made by machine learning models. Within this coding challenge, we will strengthen our ability to produce appropriate classification solutions by extending a base model with tuned hyperparameters.\n",
        "\n",
        "<br></br>\n",
        "\n",
        "<div align=\"center\" style=\"width: 600px; font-size: 80%; text-align: center; margin: 0 auto\">\n",
        "<img src=\"https://raw.githubusercontent.com/Explore-AI/Pictures/master/wine.jpg\"\n",
        "     alt=\"Some fine wine for your fine model\"\n",
        "     style=\"float: center; padding-bottom=0.5em\"\n",
        "     width=600px/>\n",
        "Some fine wine for your fine modelling process.\n",
        "Photo by <a href=\"https://unsplash.com/@hermez777?utm_source=unsplash&utm_medium=referral&utm_content=creditCopyText\"> Hermes Rivera</a> on Unsplash\n",
        "</div>\n",
        "\n",
        "The structure of this notebook is as follows:\n",
        "\n",
        " - First, we'll load our data to get a view of the predictor and response variables we will be modelling.\n",
        " - We'll then preprocess our data, binarising the target variable and splitting up the data into train and test sets.\n",
        " - We then model our data using a Support Vector Classifier.\n",
        " - Following this modelling, we define a custom metric as the log-loss in order to evaluate our produced model.\n",
        " - Using this metric, we then take several steps to improve our base model's performance by optimising the hyperparameters of the SVC through a grid search strategy."
      ]
    },
    {
      "cell_type": "markdown",
      "id": "d5e543f7",
      "metadata": {
        "id": "d5e543f7"
      },
      "source": [
        "## Imports\n",
        "\n",
        "Let's go ahead and load the usual suspects"
      ]
    },
    {
      "cell_type": "code",
      "execution_count": null,
      "id": "0bf461fb",
      "metadata": {
        "id": "0bf461fb"
      },
      "outputs": [],
      "source": [
        "import numpy as np\n",
        "import pandas as pd\n",
        "from matplotlib import pyplot as plt\n",
        "import seaborn as sns\n",
        "\n",
        "from sklearn import preprocessing\n",
        "from sklearn.model_selection import train_test_split\n",
        "from sklearn.metrics import accuracy_score\n",
        "from sklearn.metrics import confusion_matrix\n",
        "\n",
        "from sklearn.model_selection import GridSearchCV\n",
        "from sklearn.svm import SVC"
      ]
    },
    {
      "cell_type": "markdown",
      "id": "219a8d5a",
      "metadata": {
        "id": "219a8d5a"
      },
      "source": [
        "## The dataset\n",
        "\n",
        "For this coding challenge we'll be using the [Wine Quality dataset](https://archive.ics.uci.edu/ml/datasets/wine+quality) from the UCI Machine Learning Repository. The constituents of this dataset are red and white variants of the Portuguese \"Vinho Verde\" wine.\n",
        "\n",
        "This dataset consists of the following variables:\n",
        "\n",
        " - fixed acidity\n",
        " - volatile acidity\n",
        " - citric acid\n",
        " - residual sugar\n",
        " - chlorides\n",
        " - free sulfur dioxide\n",
        " - total sulfur dioxide\n",
        " - density\n",
        " - pH\n",
        " - sulphates\n",
        " - alcohol\n",
        " - quality (score between 0 and 10)"
      ]
    },
    {
      "cell_type": "markdown",
      "id": "59fa0bf2",
      "metadata": {
        "id": "59fa0bf2"
      },
      "source": [
        "### Reading in the data\n",
        "\n",
        "\n",
        "**Note** the feature we will be predicting is quality, i.e. the label is 'quality' using classification."
      ]
    },
    {
      "cell_type": "code",
      "execution_count": null,
      "id": "d80ad1b3",
      "metadata": {
        "colab": {
          "base_uri": "https://localhost:8080/",
          "height": 206
        },
        "id": "d80ad1b3",
        "outputId": "1f83cf59-b813-40d1-824b-fb56137d1404"
      },
      "outputs": [
        {
          "data": {
            "text/html": [
              "<div>\n",
              "<style scoped>\n",
              "    .dataframe tbody tr th:only-of-type {\n",
              "        vertical-align: middle;\n",
              "    }\n",
              "\n",
              "    .dataframe tbody tr th {\n",
              "        vertical-align: top;\n",
              "    }\n",
              "\n",
              "    .dataframe thead th {\n",
              "        text-align: right;\n",
              "    }\n",
              "</style>\n",
              "<table border=\"1\" class=\"dataframe\">\n",
              "  <thead>\n",
              "    <tr style=\"text-align: right;\">\n",
              "      <th></th>\n",
              "      <th>type</th>\n",
              "      <th>fixed acidity</th>\n",
              "      <th>volatile acidity</th>\n",
              "      <th>citric acid</th>\n",
              "      <th>residual sugar</th>\n",
              "      <th>chlorides</th>\n",
              "      <th>free sulfur dioxide</th>\n",
              "      <th>total sulfur dioxide</th>\n",
              "      <th>density</th>\n",
              "      <th>pH</th>\n",
              "      <th>sulphates</th>\n",
              "      <th>alcohol</th>\n",
              "      <th>quality</th>\n",
              "    </tr>\n",
              "  </thead>\n",
              "  <tbody>\n",
              "    <tr>\n",
              "      <th>0</th>\n",
              "      <td>0</td>\n",
              "      <td>7.0</td>\n",
              "      <td>0.27</td>\n",
              "      <td>0.36</td>\n",
              "      <td>20.7</td>\n",
              "      <td>0.045</td>\n",
              "      <td>45.0</td>\n",
              "      <td>170.0</td>\n",
              "      <td>1.0010</td>\n",
              "      <td>3.00</td>\n",
              "      <td>0.45</td>\n",
              "      <td>8.8</td>\n",
              "      <td>6</td>\n",
              "    </tr>\n",
              "    <tr>\n",
              "      <th>1</th>\n",
              "      <td>0</td>\n",
              "      <td>6.3</td>\n",
              "      <td>0.30</td>\n",
              "      <td>0.34</td>\n",
              "      <td>1.6</td>\n",
              "      <td>0.049</td>\n",
              "      <td>14.0</td>\n",
              "      <td>132.0</td>\n",
              "      <td>0.9940</td>\n",
              "      <td>3.30</td>\n",
              "      <td>0.49</td>\n",
              "      <td>9.5</td>\n",
              "      <td>6</td>\n",
              "    </tr>\n",
              "    <tr>\n",
              "      <th>2</th>\n",
              "      <td>0</td>\n",
              "      <td>8.1</td>\n",
              "      <td>0.28</td>\n",
              "      <td>0.40</td>\n",
              "      <td>6.9</td>\n",
              "      <td>0.050</td>\n",
              "      <td>30.0</td>\n",
              "      <td>97.0</td>\n",
              "      <td>0.9951</td>\n",
              "      <td>3.26</td>\n",
              "      <td>0.44</td>\n",
              "      <td>10.1</td>\n",
              "      <td>6</td>\n",
              "    </tr>\n",
              "    <tr>\n",
              "      <th>3</th>\n",
              "      <td>0</td>\n",
              "      <td>7.2</td>\n",
              "      <td>0.23</td>\n",
              "      <td>0.32</td>\n",
              "      <td>8.5</td>\n",
              "      <td>0.058</td>\n",
              "      <td>47.0</td>\n",
              "      <td>186.0</td>\n",
              "      <td>0.9956</td>\n",
              "      <td>3.19</td>\n",
              "      <td>0.40</td>\n",
              "      <td>9.9</td>\n",
              "      <td>6</td>\n",
              "    </tr>\n",
              "    <tr>\n",
              "      <th>4</th>\n",
              "      <td>0</td>\n",
              "      <td>7.2</td>\n",
              "      <td>0.23</td>\n",
              "      <td>0.32</td>\n",
              "      <td>8.5</td>\n",
              "      <td>0.058</td>\n",
              "      <td>47.0</td>\n",
              "      <td>186.0</td>\n",
              "      <td>0.9956</td>\n",
              "      <td>3.19</td>\n",
              "      <td>0.40</td>\n",
              "      <td>9.9</td>\n",
              "      <td>6</td>\n",
              "    </tr>\n",
              "  </tbody>\n",
              "</table>\n",
              "</div>"
            ],
            "text/plain": [
              "   type  fixed acidity  volatile acidity  citric acid  residual sugar  \\\n",
              "0     0            7.0              0.27         0.36            20.7   \n",
              "1     0            6.3              0.30         0.34             1.6   \n",
              "2     0            8.1              0.28         0.40             6.9   \n",
              "3     0            7.2              0.23         0.32             8.5   \n",
              "4     0            7.2              0.23         0.32             8.5   \n",
              "\n",
              "   chlorides  free sulfur dioxide  total sulfur dioxide  density    pH  \\\n",
              "0      0.045                 45.0                 170.0   1.0010  3.00   \n",
              "1      0.049                 14.0                 132.0   0.9940  3.30   \n",
              "2      0.050                 30.0                  97.0   0.9951  3.26   \n",
              "3      0.058                 47.0                 186.0   0.9956  3.19   \n",
              "4      0.058                 47.0                 186.0   0.9956  3.19   \n",
              "\n",
              "   sulphates  alcohol  quality  \n",
              "0       0.45      8.8        6  \n",
              "1       0.49      9.5        6  \n",
              "2       0.44     10.1        6  \n",
              "3       0.40      9.9        6  \n",
              "4       0.40      9.9        6  "
            ]
          },
          "execution_count": 2,
          "metadata": {},
          "output_type": "execute_result"
        }
      ],
      "source": [
        "df = pd.read_csv('https://raw.githubusercontent.com/Explore-AI/Public-Data/master/Data/classification_sprint/winequality.csv')\n",
        "df.head()"
      ]
    },
    {
      "cell_type": "markdown",
      "id": "e2c4bfe2",
      "metadata": {
        "id": "e2c4bfe2"
      },
      "source": [
        "## Question 1 - Data preprocessing\n",
        "\n",
        "We would like to classify the wine according to it's quality using binary classification.\n",
        "Write a function to preprocess the data so we can run it through the classifier. The function should:\n",
        "\n",
        "* Convert the quality for lower quality wines (quality less than or equal to 4) to 0\n",
        "* Convert the quality for higher quality wines (quality greater than or equal to 5) to 1\n",
        "* Split the data into 75% training and 25% testing data\n",
        "* Set random_state to equal 42 for this internal method.\n",
        "\n",
        "_**Function specifications:**_\n",
        "* Should take a dataframe\n",
        "* Standardise the features using sklearn's ```StandardScaler```\n",
        "* Convert the quality labels into binary labels\n",
        "* Should fill nan values with zeros\n",
        "* Should return two `tuples` of the form `(X_train, y_train), (X_test, y_test)`."
      ]
    },
    {
      "cell_type": "code",
      "execution_count": null,
      "id": "93ab4297",
      "metadata": {
        "id": "93ab4297"
      },
      "outputs": [],
      "source": [
        "### START FUNCTION\n",
        "def data_preprocess(df):\n",
        "    \"\"\"\n",
        "    Preprocesses the given DataFrame for classification, including standardization, label binarization, and train-test split.\n",
        "\n",
        "    Parameters:\n",
        "    df (DataFrame): Input DataFrame containing the wine quality dataset.\n",
        "\n",
        "    Returns:\n",
        "    tuple: Two tuples of the form `(X_train, y_train), (X_test, y_test)`.\n",
        "           X_train (array-like): Features for training.\n",
        "           y_train (array-like): Labels for training.\n",
        "           X_test (array-like): Features for testing.\n",
        "           y_test (array-like): Labels for testing.\n",
        "    \"\"\"\n",
        "     # Convert quality labels into binary labels\n",
        "    df['quality'] = df['quality'].apply(lambda x: 0 if x <= 4 else 1)\n",
        "\n",
        "    # Fill NaN values with zeros\n",
        "    df.fillna(0, inplace=True)\n",
        "\n",
        "    # Split features and labels\n",
        "    X = df.drop('quality', axis=1)\n",
        "    y = df['quality']\n",
        "\n",
        "    # Standardize the features\n",
        "    scaler = preprocessing.StandardScaler()\n",
        "    X_scaled = scaler.fit_transform(X)\n",
        "\n",
        "    # Split the data into training and testing sets\n",
        "    X_train, X_test, y_train, y_test = train_test_split(X_scaled, y, test_size=0.25, random_state=42)\n",
        "\n",
        "    # Convert y_train and y_test to numpy arrays\n",
        "    y_train = np.array(y_train)\n",
        "    y_test = np.array(y_test)\n",
        "\n",
        "    return (X_train, y_train), (X_test, y_test)\n",
        "\n",
        "### END FUNCTION"
      ]
    },
    {
      "cell_type": "code",
      "execution_count": null,
      "id": "7de1e047",
      "metadata": {
        "id": "7de1e047"
      },
      "outputs": [],
      "source": [
        "(X_train, y_train), (X_test, y_test) = data_preprocess(df)"
      ]
    },
    {
      "cell_type": "code",
      "execution_count": null,
      "id": "4390b67d",
      "metadata": {
        "colab": {
          "base_uri": "https://localhost:8080/"
        },
        "id": "4390b67d",
        "outputId": "fde390dc-ab84-4b67-90f2-fb4887d46724"
      },
      "outputs": [
        {
          "name": "stdout",
          "output_type": "stream",
          "text": [
            "[[-0.57136659  0.07127869 -0.48054096  1.17914161 -0.09303318 -0.79974133\n",
            "   0.0830898  -0.15472329 -0.36573452  0.13010447  0.06101473  0.25842195]\n",
            " [-0.57136659  1.50396711 -0.72301571  0.56008035 -0.63948302 -0.05776881\n",
            "  -0.70572997  0.62379657  0.16787589 -0.86828773 -0.47467813 -0.99931317]]\n"
          ]
        }
      ],
      "source": [
        "print(X_train[:2])"
      ]
    },
    {
      "cell_type": "markdown",
      "id": "fbb6b66b",
      "metadata": {
        "id": "fbb6b66b"
      },
      "source": [
        "_**Expected outputs:**_\n",
        "```python\n",
        "(X_train, y_train), (X_test, y_test)= data_preprocess(df)\n",
        "print(X_train[:2])\n",
        "print(y_train[:2])\n",
        "print(X_test[:2])\n",
        "print(y_test[:2])\n",
        "\n",
        "\n",
        "[[-0.57136659  0.07127869 -0.48054096  1.17914161 -0.09303318 -0.79974133\n",
        "   0.0830898  -0.15472329 -0.36573452  0.13010447  0.06101473  0.25842195]\n",
        " [-0.57136659  1.50396711 -0.72301571  0.56008035 -0.63948302 -0.05776881\n",
        "  -0.70572997  0.62379657  0.16787589 -0.86828773 -0.47467813 -0.99931317]]\n",
        "\n",
        "[1 0]\n",
        "\n",
        "[[-0.57136659 -0.15493527 -0.54115965  0.90400327 -0.66050032 -0.31460545\n",
        "   0.53384396  0.03990667 -1.35291379 -0.26925241 -0.34075491  1.18076103]\n",
        " [-0.57136659  0.29749266 -1.20796522  2.8987562  -0.80762143 -0.45729248\n",
        "  -0.19863155 -0.22549783 -1.03274754 -0.7185289  -0.87644778  0.25842195]]\n",
        "\n",
        "[1 1]\n",
        "```"
      ]
    },
    {
      "cell_type": "markdown",
      "id": "b52dee68",
      "metadata": {
        "id": "b52dee68"
      },
      "source": [
        "## Question 2 - Model training\n",
        "\n",
        "Now that you have processed your data, let's jump straight into model fitting. Write a function that should:\n",
        "* Instantiate a `SVC` model.\n",
        "* Train the `SVC` model with default parameters.\n",
        "* Return the trained SVC model.\n",
        "\n",
        "_**Function specifications:**_\n",
        "* Should take two numpy `arrays` as input in the form `(X_train, y_train)`.\n",
        "* Should return an sklearn `SVC` model which has a random state of 40 and gamma set to 'auto'.\n",
        "* The returned model should be fitted to the data."
      ]
    },
    {
      "cell_type": "code",
      "execution_count": null,
      "id": "f1235b40",
      "metadata": {
        "id": "f1235b40"
      },
      "outputs": [],
      "source": [
        "### START FUNCTION\n",
        "def train_SVC_model(X_train, y_train):\n",
        "    \"\"\"\n",
        "    Trains a Support Vector Classifier (SVC) model with default parameters on the given training data.\n",
        "\n",
        "    Parameters:\n",
        "    X_train (array-like): Features for training.\n",
        "    y_train (array-like): Labels for training.\n",
        "\n",
        "    Returns:\n",
        "    SVC: Trained SVC model.\n",
        "    \"\"\"\n",
        "    from sklearn.svm import SVC\n",
        "\n",
        "    # Instantiate SVC model with default parameters\n",
        "    svc_model = SVC(random_state=40, gamma='auto')\n",
        "\n",
        "    # Fit the model to the training data\n",
        "    svc_model.fit(X_train, y_train)\n",
        "\n",
        "    return svc_model\n",
        "\n",
        "### END FUNCTION"
      ]
    },
    {
      "cell_type": "code",
      "execution_count": null,
      "id": "9d8427bc",
      "metadata": {
        "colab": {
          "base_uri": "https://localhost:8080/"
        },
        "id": "9d8427bc",
        "outputId": "17a41e87-5e45-4e23-d750-d9ae8d78f795"
      },
      "outputs": [
        {
          "data": {
            "text/plain": [
              "array([0, 1])"
            ]
          },
          "execution_count": 41,
          "metadata": {},
          "output_type": "execute_result"
        }
      ],
      "source": [
        "svc = train_SVC_model(X_train,y_train)\n",
        "svc.classes_"
      ]
    },
    {
      "cell_type": "markdown",
      "id": "7035ff0d",
      "metadata": {
        "id": "7035ff0d"
      },
      "source": [
        "\n",
        "_**Expected outputs:**_\n",
        "\n",
        "```python\n",
        "svc.classes_\n",
        "```\n",
        "```\n",
        "array([0, 1], dtype=int64)\n",
        "```"
      ]
    },
    {
      "cell_type": "markdown",
      "id": "18b2e62e",
      "metadata": {
        "id": "18b2e62e"
      },
      "source": [
        "## Question 3 - Model testing\n",
        "\n",
        "Now that you've trained your model. It's time to test its accuracy, however, we'll be using a custom scoring function for this. Create a function that implements the log loss function:\n",
        "\n",
        "$$\\Large  H(p,q)=  -\\frac{1}{N}\\sum_{i=1}^{N} ylog(\\hat{y}_{i}) + (1- y)log(1 - \\hat{y}_{i})$$\n",
        "\n",
        "_**Function specifications:**_\n",
        "* Should take two numpy `arrays` as input in the form `y_true` and `y_predicted`.\n",
        "* Should return a `float64` for the log loss value rounded to 7 decimal places.\n",
        "\n",
        "_**Hint:**_ the numpy subtract function can be used to perform a calculation across an array of values"
      ]
    },
    {
      "cell_type": "code",
      "execution_count": null,
      "id": "ecd1016e",
      "metadata": {
        "id": "ecd1016e"
      },
      "outputs": [],
      "source": [
        "### START FUNCTION\n",
        "def custom_scoring_function(y_true, y_pred):\n",
        "    \"\"\"\n",
        "    Calculates the log loss value for classification.\n",
        "\n",
        "    Parameters:\n",
        "    y_true (array-like): True labels.\n",
        "    y_pred (array-like): Predicted probabilities of the positive class.\n",
        "\n",
        "    Returns:\n",
        "    float: Log loss value rounded to 7 decimal places.\n",
        "    \"\"\"\n",
        "    epsilon = 1e-15\n",
        "    y_pred = np.maximum(epsilon, y_pred)\n",
        "    y_pred = np.minimum(1 - epsilon, y_pred)\n",
        "\n",
        "    # Compute log loss\n",
        "    log_loss = -np.mean(y_true * np.log(y_pred) + (1 - y_true) * np.log(1 - y_pred))\n",
        "\n",
        "    return round(log_loss, 7)\n",
        "\n",
        "### END FUNCTION"
      ]
    },
    {
      "cell_type": "code",
      "execution_count": null,
      "id": "7c1ca05f",
      "metadata": {
        "colab": {
          "base_uri": "https://localhost:8080/"
        },
        "id": "7c1ca05f",
        "outputId": "c9a67383-9da9-46c3-a8dc-72f917b4072f"
      },
      "outputs": [
        {
          "name": "stdout",
          "output_type": "stream",
          "text": [
            "Log Loss value:  1.2540518\n",
            "Accuracy:  0.9637\n"
          ]
        }
      ],
      "source": [
        "y_pred = svc.predict(X_test)\n",
        "print('Log Loss value: ', custom_scoring_function(y_test, y_pred))\n",
        "print('Accuracy: ',round(accuracy_score(y_test,y_pred),4))"
      ]
    },
    {
      "cell_type": "markdown",
      "id": "102ba577",
      "metadata": {
        "id": "102ba577"
      },
      "source": [
        "_**Expected outputs:**_\n",
        "```python\n",
        "print('Log Loss value: ',custom_scoring_function(y_test,y_pred))\n",
        "print('Accuracy: ',round(accuracy_score(y_test,y_pred),4))\n",
        "```\n",
        "\n",
        "> ```\n",
        "Log Loss value:  1.2540518\n",
        "Accuracy:  0.9637\n",
        "```"
      ]
    },
    {
      "cell_type": "markdown",
      "id": "c302d72a",
      "metadata": {
        "id": "c302d72a"
      },
      "source": [
        "## Hyperparameter optimisation\n",
        "\n",
        "### Question 4.1 - Getting model parameters\n",
        "In order to improve the accuracy of our classifier, we have to search for the best possible model (`SVC` in this case) parameters. However, we first have to find out what parameters can be tuned for the given model. Write a function that returns a list of available hyperparameters for a given model.\n",
        "\n",
        "_**Function specifications:**_\n",
        "* Should take in an sklearn model (estimator) object.\n",
        "* Should return a list of parameters for the given model."
      ]
    },
    {
      "cell_type": "code",
      "execution_count": null,
      "id": "97e6db43",
      "metadata": {
        "id": "97e6db43"
      },
      "outputs": [],
      "source": [
        "### START FUNCTION\n",
        "def get_model_hyperparams(model):\n",
        "    \"\"\"\n",
        "    Retrieves the available hyperparameters for a given sklearn model (estimator).\n",
        "\n",
        "    Parameters:\n",
        "    model (object): Sklearn model (estimator) object.\n",
        "\n",
        "    Returns:\n",
        "    list: List of hyperparameters for the given model.\n",
        "    \"\"\"\n",
        "    # Extract hyperparameters from the model\n",
        "    hyperparams = model.get_params().keys()\n",
        "\n",
        "    return list(hyperparams)\n",
        "\n",
        "### END FUNCTION"
      ]
    },
    {
      "cell_type": "code",
      "execution_count": null,
      "id": "61609a14",
      "metadata": {
        "colab": {
          "base_uri": "https://localhost:8080/"
        },
        "id": "61609a14",
        "outputId": "1e6be838-add2-48a7-c2c4-4c17a6f288b4"
      },
      "outputs": [
        {
          "data": {
            "text/plain": [
              "['C',\n",
              " 'break_ties',\n",
              " 'cache_size',\n",
              " 'class_weight',\n",
              " 'coef0',\n",
              " 'decision_function_shape',\n",
              " 'degree',\n",
              " 'gamma',\n",
              " 'kernel',\n",
              " 'max_iter',\n",
              " 'probability',\n",
              " 'random_state',\n",
              " 'shrinking',\n",
              " 'tol',\n",
              " 'verbose']"
            ]
          },
          "execution_count": 45,
          "metadata": {},
          "output_type": "execute_result"
        }
      ],
      "source": [
        "get_model_hyperparams(svc)"
      ]
    },
    {
      "cell_type": "markdown",
      "id": "d36b731a",
      "metadata": {
        "id": "d36b731a"
      },
      "source": [
        "_**Expected outputs:**_\n",
        "\n",
        "```python\n",
        "get_model_hyperparams(SVC)\n",
        "```\n",
        "\n",
        "> ```\n",
        "['C',\n",
        " 'cache_size',\n",
        " 'class_weight',\n",
        " 'coef0',\n",
        " .\n",
        " .\n",
        " .\n",
        " 'shrinking',\n",
        " 'tol',\n",
        " 'verbose']\n",
        "```"
      ]
    },
    {
      "cell_type": "markdown",
      "id": "55616b10",
      "metadata": {
        "id": "55616b10"
      },
      "source": [
        "### Question 4.2 - Hyperparameter search\n",
        "The next step is define a set of `SVC` hyperparameters to search over. Write a function that searches for optimal parameters using the given dictionary of hyperparameters:\n",
        "\n",
        "- C_list = [0.1, 1, 10]\n",
        "- {C: 0.1, 1, 10}\n",
        "- gamma_list = [0.01, 0.1, 1]\n",
        "- {gamma: 0.01, 0.1, 1}\n",
        "- D = {'C':[0.1, 1, 10], 'gamma': [0.01, 0.1, 1]}\n",
        "\n",
        "and using `custom_scoring_function` from **Question 3** above as a custom scoring function (_**Hint**_: Have a look at at the `make_scorer` object in sklearn `metrics`).\n",
        "\n",
        "_**Function specifications:**_\n",
        "* Should define a parameter grid using the given list of `SVC` hyperparameters\n",
        "* Should return an sklearn `GridSearchCV` object with a cross validation of 5.\n",
        "* Should return a value rounded to 4 decimal places."
      ]
    },
    {
      "cell_type": "code",
      "execution_count": null,
      "id": "624df1be",
      "metadata": {
        "id": "624df1be"
      },
      "outputs": [],
      "source": [
        "### START FUNCTION\n",
        "def tune_SVC_model(X_train, y_train):\n",
        "    \"\"\"\n",
        "    Tune hyperparameters of an SVC model using grid search.\n",
        "\n",
        "    Parameters:\n",
        "    X_train (array-like): Features for training.\n",
        "    y_train (array-like): Labels for training.\n",
        "\n",
        "    Returns:\n",
        "    GridSearchCV: Tuned SVC model.\n",
        "    \"\"\"\n",
        "    # Import make_scorer function\n",
        "    from sklearn.metrics import make_scorer\n",
        "\n",
        "    # Define parameter grid\n",
        "    param_grid = {'C': [0.1, 1, 10], 'gamma': [0.01, 0.1, 1]}\n",
        "\n",
        "    # Create SVC model\n",
        "    svc = SVC(random_state=40, gamma='auto')\n",
        "\n",
        "    # Create scorer object using custom scoring function\n",
        "    custom_scorer = make_scorer(custom_scoring_function, greater_is_better=False)\n",
        "\n",
        "    # Perform grid search with cross-validation\n",
        "    grid_search = GridSearchCV(estimator=svc, param_grid=param_grid, scoring=custom_scorer, cv=5)\n",
        "\n",
        "    # Fit grid search to data\n",
        "    grid_search.fit(X_train, y_train)\n",
        "\n",
        "    return grid_search\n",
        "\n",
        "### END FUNCTION"
      ]
    },
    {
      "cell_type": "code",
      "execution_count": null,
      "id": "7b70eadc",
      "metadata": {
        "colab": {
          "base_uri": "https://localhost:8080/"
        },
        "id": "7b70eadc",
        "outputId": "6c840cf2-2800-4103-c83f-146521cf0cd2"
      },
      "outputs": [
        {
          "name": "stdout",
          "output_type": "stream",
          "text": [
            "Log Loss value:  1.2115421\n",
            "Accuracy:  0.9649\n"
          ]
        }
      ],
      "source": [
        "# Tune SVC model hyperparameters\n",
        "svc_tuned = tune_SVC_model(X_train, y_train)\n",
        "\n",
        "y_pred = svc_tuned.predict(X_test)\n",
        "print('Log Loss value: ',custom_scoring_function(y_test,y_pred))\n",
        "print('Accuracy: ',round(accuracy_score(y_test,y_pred),4))"
      ]
    },
    {
      "cell_type": "markdown",
      "id": "28a40a4e",
      "metadata": {
        "id": "28a40a4e"
      },
      "source": [
        "_**Expected outputs:**_\n",
        "```python\n",
        "print('Log Loss value: ',custom_scoring_function(y_test,y_pred))\n",
        "print('Accuracy: ',round(accuracy_score(y_test,y_pred),4))\n",
        "```\n",
        "\n",
        "> ```\n",
        "Log Loss value:  1.2115421\n",
        "Accuracy:  0.9649\n",
        "```"
      ]
    },
    {
      "cell_type": "markdown",
      "id": "be137501",
      "metadata": {
        "id": "be137501"
      },
      "source": [
        "### Question 4.3 - Optimal model parameters\n",
        "Write a function that returns the best hyperperameters for a given model (i.e. the `GridSearchCV`).\n",
        "\n",
        "_**Function specifications:**_\n",
        "* Should take in an sklearn GridSearchCV object.\n",
        "* Should return a dictionary of optimal parameters for the given model."
      ]
    },
    {
      "cell_type": "code",
      "execution_count": null,
      "id": "7d32de7f",
      "metadata": {
        "id": "7d32de7f"
      },
      "outputs": [],
      "source": [
        "### START FUNCTION\n",
        "def get_best_params(model):\n",
        "    \"\"\"\n",
        "    Retrieves the best hyperparameters from a trained GridSearchCV model.\n",
        "\n",
        "    Parameters:\n",
        "    model (GridSearchCV): Trained GridSearchCV model.\n",
        "\n",
        "    Returns:\n",
        "    dict: Dictionary of optimal hyperparameters for the given model.\n",
        "    \"\"\"\n",
        "    # Extract best parameters from the GridSearchCV model\n",
        "    best_params = model.best_params_\n",
        "\n",
        "    return best_params\n",
        "\n",
        "### END FUNCTION"
      ]
    },
    {
      "cell_type": "code",
      "execution_count": null,
      "id": "701e0d61",
      "metadata": {
        "colab": {
          "base_uri": "https://localhost:8080/"
        },
        "id": "701e0d61",
        "outputId": "930690a8-080e-4723-b84a-8d2abbc2143c"
      },
      "outputs": [
        {
          "data": {
            "text/plain": [
              "{'C': 1, 'gamma': 1}"
            ]
          },
          "execution_count": 58,
          "metadata": {},
          "output_type": "execute_result"
        }
      ],
      "source": [
        "get_best_params(svc_tuned)"
      ]
    },
    {
      "cell_type": "markdown",
      "id": "f9fc18a4",
      "metadata": {
        "id": "f9fc18a4"
      },
      "source": [
        "_**Expected outputs:**_\n",
        "```python\n",
        "get_best_params(svc_tuned)\n",
        "```\n",
        "\n",
        "> ```\n",
        "{'C': 1, 'gamma': 1}\n",
        "```"
      ]
    },
    {
      "cell_type": "markdown",
      "id": "26fd094b-0fee-46f1-a4b8-73766813c42b",
      "metadata": {
        "id": "26fd094b-0fee-46f1-a4b8-73766813c42b",
        "tags": []
      },
      "source": [
        "#  \n",
        "\n",
        "<div align=\"center\" style=\" font-size: 80%; text-align: center; margin: 0 auto\">\n",
        "<img src=\"https://raw.githubusercontent.com/Explore-AI/Pictures/master/ExploreAI_logos/EAI_Blue_Dark.png\"  style=\"width:200px\";/>\n",
        "</div>"
      ]
    }
  ],
  "metadata": {
    "colab": {
      "provenance": []
    },
    "kernelspec": {
      "display_name": "Python 3 (ipykernel)",
      "language": "python",
      "name": "python3"
    },
    "language_info": {
      "codemirror_mode": {
        "name": "ipython",
        "version": 3
      },
      "file_extension": ".py",
      "mimetype": "text/x-python",
      "name": "python",
      "nbconvert_exporter": "python",
      "pygments_lexer": "ipython3",
      "version": "3.11.5"
    }
  },
  "nbformat": 4,
  "nbformat_minor": 5
}